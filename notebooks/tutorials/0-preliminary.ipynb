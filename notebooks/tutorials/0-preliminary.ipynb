{
 "cells": [
  {
   "cell_type": "markdown",
   "metadata": {},
   "source": [
    "# Simulation of quantum systems\n",
    "\n",
    "In this notebook, we introduce the concepts of quantum simulation and the basic usage of SimuQ. \n",
    "\n",
    "Given a Hamiltonian $H$, the time evolution of a quantum system is governed by the Schrödinger equation. $$i\\frac{d}{dt}|\\psi(t)\\rangle = H|\\psi(t)\\rangle.$$\n",
    "\n",
    "Simulation of quantum systems is to solve the Schrödinger equation and obtain the system's state at a given time.\n",
    "\n",
    "Due to the exponentially-large Hilbert space, a classical computer can not effectively simulate a quantum system's time evolution in general. SimuQ provides a more general and flexible way to simulate the time evolution of a quantum system using quantum computers.\n",
    "\n"
   ]
  },
  {
   "cell_type": "markdown",
   "metadata": {},
   "source": [
    "## Installation"
   ]
  },
  {
   "cell_type": "markdown",
   "metadata": {},
   "source": [
    "You may install SimuQ directly via `pip`:"
   ]
  },
  {
   "cell_type": "code",
   "execution_count": null,
   "metadata": {},
   "outputs": [],
   "source": [
    "%pip install simuq"
   ]
  },
  {
   "cell_type": "markdown",
   "metadata": {},
   "source": [
    "We start with programming the Ising model on a 3 qubit chain.\n",
    "\n",
    "# Prepare the python environment\n"
   ]
  },
  {
   "cell_type": "code",
   "execution_count": 2,
   "metadata": {},
   "outputs": [],
   "source": [
    "from simuq.qsystem import QSystem\n",
    "from simuq.environment import qubit"
   ]
  },
  {
   "cell_type": "markdown",
   "metadata": {},
   "source": [
    "Here `QSystem` is the class for quantum systems, and `qubit` is the class for qubit sites.\n",
    "\n",
    "## Define the evolution\n",
    "\n",
    "First we create a quantum system and a list of qubit sites."
   ]
  },
  {
   "cell_type": "code",
   "execution_count": 2,
   "metadata": {},
   "outputs": [],
   "source": [
    "n_qubits = 3\n",
    "qs = QSystem()\n",
    "q = [qubit(qs) for i in range(n_qubits)]"
   ]
  },
  {
   "cell_type": "markdown",
   "metadata": {},
   "source": [
    "Suppose our target is a short evolution governed by an constant Ising Hamiltonian $H=X_1X_2+X_2X_3+Z_1+Z_2+Z_3$. We can program the evolution as follows."
   ]
  },
  {
   "cell_type": "code",
   "execution_count": 3,
   "metadata": {},
   "outputs": [],
   "source": [
    "h = q[0].X * q[1].X + q[1].X * q[2].X + q[0].Z + q[1].Z + q[2].Z"
   ]
  },
  {
   "cell_type": "markdown",
   "metadata": {},
   "source": [
    "We add a $T=1$ time evolution under $H$ to the quantum system.\n"
   ]
  },
  {
   "cell_type": "code",
   "execution_count": 4,
   "metadata": {},
   "outputs": [],
   "source": [
    "T = 1\n",
    "qs.add_evolution(h, T)"
   ]
  },
  {
   "cell_type": "markdown",
   "metadata": {},
   "source": [
    "Then `qs` contains the evolution of $H$ for time $T$. To add next segment of evolution, we only need to call the method `add_evolution` again."
   ]
  },
  {
   "cell_type": "markdown",
   "metadata": {},
   "source": [
    "# Create a QuTiP provider\n",
    "\n",
    "A provider is a user interface for convenient manipulations of functionalities of SimuQ. QuTiP is a python package for simulating the dynamics of open quantum systems. We use QuTiP provider as a basic example on how to use providers to deploy quantum simulation problems on devices and obtain results.\n",
    "\n",
    "We can create a QuTiP provider via the following code\n"
   ]
  },
  {
   "cell_type": "code",
   "execution_count": 6,
   "metadata": {},
   "outputs": [],
   "source": [
    "from simuq.qutip import QuTiPProvider\n",
    "qpp = QuTiPProvider()"
   ]
  },
  {
   "cell_type": "markdown",
   "metadata": {},
   "source": [
    "## Compilation in provider\n",
    "\n",
    "To simulate a quantum system `qs` programmed in HML via SimuQ, we need three major steps of a provider: `compile`, `run`, `results`.\n",
    "\n",
    "We call the `compile` function of the provider to process the system into a runnable executable. For QuTiP provider, we can execute"
   ]
  },
  {
   "cell_type": "code",
   "execution_count": 7,
   "metadata": {},
   "outputs": [
    {
     "name": "stdout",
     "output_type": "stream",
     "text": [
      "Compiled.\n"
     ]
    }
   ],
   "source": [
    "qpp.compile(qs)"
   ]
  },
  {
   "cell_type": "markdown",
   "metadata": {},
   "source": [
    "QuTiP provider processes the quantum system `qs` and translate it into a Hamiltonian in QuTiP. \n",
    "\n",
    "For other providers, compile command may specify the backend device, AAIS, and compiler specifications.\n",
    "\n",
    "When compilation succeeds, the job will be recorded in the provider.\n",
    "\n",
    "## Run and obtain results from providers\n",
    "\n",
    "Running a job will send the compilation results to backend devices to execute. For QuTiP provider, we execute\n"
   ]
  },
  {
   "cell_type": "code",
   "execution_count": 8,
   "metadata": {},
   "outputs": [
    {
     "name": "stdout",
     "output_type": "stream",
     "text": [
      "Solved.\n"
     ]
    }
   ],
   "source": [
    "qpp.run()"
   ]
  },
  {
   "cell_type": "markdown",
   "metadata": {},
   "source": [
    "For other providers, you can choose whether to run on classical simulators, and how many shots to run on the real device or simulators. Note that these classical simulators are mostly from hardware providers and executed on the cloud.\n",
    "\n",
    "To retrieve the results, we can execute"
   ]
  },
  {
   "cell_type": "code",
   "execution_count": 9,
   "metadata": {},
   "outputs": [
    {
     "data": {
      "text/plain": [
       "{'000': 0.6972053600815633,\n",
       " '001': 0.0,\n",
       " '010': 0.0,\n",
       " '011': 0.059733589164270996,\n",
       " '100': 0.0,\n",
       " '101': 0.18332746158989463,\n",
       " '110': 0.059733589164270996,\n",
       " '111': 0.0}"
      ]
     },
     "execution_count": 9,
     "metadata": {},
     "output_type": "execute_result"
    }
   ],
   "source": [
    "qpp.results()"
   ]
  },
  {
   "cell_type": "markdown",
   "metadata": {},
   "source": [
    "If the task is still in the queue on the device, an exception will be raised. When the retrieval succeeds, a dictionary is returned, which contains the frequencies of obtaining a measurement array (encoded as a 0/1 string). A bit in the string corresponds to a site of the quantum system. \n",
    "\n",
    "We can call the following code to show the order of the sites in the measurement output."
   ]
  },
  {
   "cell_type": "code",
   "execution_count": 10,
   "metadata": {},
   "outputs": [
    {
     "name": "stdout",
     "output_type": "stream",
     "text": [
      "Order of sites: ['Qubit0', 'Qubit1', 'Qubit2']\n"
     ]
    }
   ],
   "source": [
    "qpp.print_sites()"
   ]
  },
  {
   "cell_type": "markdown",
   "metadata": {},
   "source": [
    "# Compile and run on devices\n",
    "\n",
    "## Declare IonQ providers\n",
    "\n",
    "Accesses to IonQ Quantum Cloud require an API key from IonQ.\n",
    "\n",
    "Assuming that you have a string `API_key` storing it, we can declare an IonQ provider in SimuQ by"
   ]
  },
  {
   "cell_type": "code",
   "execution_count": 5,
   "metadata": {},
   "outputs": [],
   "source": [
    "from simuq.ionq import IonQProvider\n",
    "iqp = IonQProvider(from_file=\"../../../ionq_API_key\")"
   ]
  },
  {
   "cell_type": "markdown",
   "metadata": {},
   "source": [
    "## Compile, run, and retrieve results\n",
    "\n",
    "To compile and run the 3-site Ising system `qs` on IonQ devices, we need to specify a device and an AAIS. By default, the device is Aria-1 and the AAIS in compilation is Heisenberg-AAIS. One can also pass detailed parameters in the compilation like error tolerance bound and number of Trotterization here. For simplicity, we execute with the default compiler configuration by"
   ]
  },
  {
   "cell_type": "code",
   "execution_count": 10,
   "metadata": {},
   "outputs": [],
   "source": [
    "iqp.compile(qs)"
   ]
  },
  {
   "cell_type": "markdown",
   "metadata": {},
   "source": [
    "We then run the experiment on simulator, which executes\n"
   ]
  },
  {
   "cell_type": "code",
   "execution_count": 11,
   "metadata": {},
   "outputs": [
    {
     "name": "stdout",
     "output_type": "stream",
     "text": [
      "{'id': '6abbd333-0786-469e-b26e-f586d40b44f7', 'status': 'ready', 'request': 1693878157}\n"
     ]
    }
   ],
   "source": [
    "iqp.run(shots=4096, on_simulator=True)"
   ]
  },
  {
   "cell_type": "markdown",
   "metadata": {},
   "source": [
    "This will submit a job to IonQ Quantum Cloud using the compiled results, and print the job id and status. The simulator will account for the noise model of Aria-1. To retrieve the results, we wait for a short period of time (normally several seconds) for the cloud server to queue and process the simulation, and then run\n"
   ]
  },
  {
   "cell_type": "code",
   "execution_count": 12,
   "metadata": {},
   "outputs": [
    {
     "data": {
      "text/plain": [
       "{'000': 0.686469675, '011': 0.062272307, '101': 0.18898571, '110': 0.062272307}"
      ]
     },
     "execution_count": 12,
     "metadata": {},
     "output_type": "execute_result"
    }
   ],
   "source": [
    "iqp.results()"
   ]
  },
  {
   "cell_type": "markdown",
   "metadata": {},
   "source": [
    "To run on real devices, we can execute\n",
    "\n"
   ]
  },
  {
   "cell_type": "code",
   "execution_count": null,
   "metadata": {},
   "outputs": [],
   "source": [
    "iqp.run(shots=4096)"
   ]
  },
  {
   "cell_type": "markdown",
   "metadata": {},
   "source": [
    "Here `shots` represent the number of repetition of the experiment. After queuing and executing, you may retrieve the results by calling `iqp.results()`."
   ]
  },
  {
   "cell_type": "markdown",
   "metadata": {},
   "source": [
    "# Time dependent simulation\n",
    "SimuQ also support simulating time dependent Hamiltonians. We use QAOA as an example to show how to program a time dependent Hamiltonian.\n",
    "\n",
    "QAOA, or Quantum Approximate Optimization Algorithm is a class of variational quantum algorithms to solve certain combinatorial optimization problems. The algorithm is based on iteratively apply $U_C=e^{-\\gamma_i H_c}$ and $U_B=e^{-\\beta_i H_B}$ to the initial state $|+\\rangle^{\\otimes n}$ to get the final result. \n",
    "\n",
    "For the max-cut problem, $H_B=\\sum_{(i,j)\\in E} Z_i\\otimes Z_i$ and $H_C=\\sum_i X_i$. We can program the QAOA problem for a 12-cycle using SimuQ as follows."
   ]
  },
  {
   "cell_type": "code",
   "execution_count": 8,
   "metadata": {},
   "outputs": [],
   "source": [
    "def GenQS(n=12, p=3):\n",
    "    qs = QSystem()\n",
    "    ql = [qubit(qs) for i in range(n)]\n",
    "    link = [(i, (i + 1) % n) for i in range(n)]\n",
    "    parameter_list = [\n",
    "        0.5702193,\n",
    "        -0.58631086 / 2,\n",
    "        0.85160685,\n",
    "        -1.7058538 / 2,\n",
    "        0.29468536,\n",
    "        -1.132814 / 2,\n",
    "    ] # These are optimal parameters calculated offline\n",
    "    for i in range(p):\n",
    "        h = 0\n",
    "        for q0, q1 in link:\n",
    "            h += parameter_list[2 * i] * ql[q0].Z * ql[q1].Z\n",
    "        qs.add_evolution(h, 1)\n",
    "        h = 0\n",
    "        for q0 in range(n):\n",
    "            h += parameter_list[2 * i + 1] * ql[q0].X\n",
    "        qs.add_evolution(h, 1)\n",
    "    return qs\n",
    "\n",
    "QAOA=GenQS()"
   ]
  },
  {
   "cell_type": "markdown",
   "metadata": {},
   "source": [
    "Next, we use IBM's provider to run the simulation."
   ]
  },
  {
   "cell_type": "code",
   "execution_count": 5,
   "metadata": {},
   "outputs": [],
   "source": [
    "from simuq.ibm import IBMProvider\n",
    "\n",
    "ibm = IBMProvider(from_file=\"../../../qiskit_APIKEY\", hub=\"ibm-q-ornl\", group=\"ornl\", project=\"phy147\")"
   ]
  },
  {
   "cell_type": "markdown",
   "metadata": {},
   "source": [
    "We need to specify the initial state, this can be done with `state_prep` parameters."
   ]
  },
  {
   "cell_type": "code",
   "execution_count": 6,
   "metadata": {},
   "outputs": [
    {
     "data": {
      "text/plain": [
       "<qiskit.circuit.instructionset.InstructionSet at 0x14fab1300>"
      ]
     },
     "execution_count": 6,
     "metadata": {},
     "output_type": "execute_result"
    }
   ],
   "source": [
    "from qiskit import QuantumCircuit\n",
    "state_prep=QuantumCircuit(12)\n",
    "state_prep.h(range(12))"
   ]
  },
  {
   "cell_type": "code",
   "execution_count": 11,
   "metadata": {},
   "outputs": [
    {
     "name": "stdout",
     "output_type": "stream",
     "text": [
      "<qiskit.providers.ibmq.job.ibmqjob.IBMQJob object at 0x148c3fc50>\n"
     ]
    }
   ],
   "source": [
    "ibm.compile(QAOA, backend=\"ibmq_guadalupe\", trotter_num=1,use_pulse=False, state_prep=state_prep)\n",
    "ibm.run(shots=8192, on_simulator=True)\n",
    "result=ibm.results(on_simulator=True)"
   ]
  },
  {
   "cell_type": "markdown",
   "metadata": {},
   "source": [
    "To understant the quality of the result, we calculated the average cut."
   ]
  },
  {
   "cell_type": "code",
   "execution_count": 12,
   "metadata": {},
   "outputs": [
    {
     "data": {
      "text/plain": [
       "10.503662109375"
      ]
     },
     "execution_count": 12,
     "metadata": {},
     "output_type": "execute_result"
    }
   ],
   "source": [
    "def average_cut(result):\n",
    "    avg_cut=0\n",
    "    for key in result.keys():\n",
    "        cut_i=0\n",
    "        for i in range(12):\n",
    "            if key[i]!=key[(i+1)%12]:\n",
    "                cut_i+=1\n",
    "        avg_cut+=result[key]*cut_i\n",
    "    return avg_cut\n",
    "\n",
    "average_cut(result)"
   ]
  },
  {
   "cell_type": "markdown",
   "metadata": {},
   "source": [
    "# Non qubit systems\n",
    "\n",
    "Thanks to the abstraction of a `site`, simuq can handle non-qubit systems as well with a uniform interface."
   ]
  },
  {
   "cell_type": "code",
   "execution_count": 17,
   "metadata": {},
   "outputs": [],
   "source": [
    "from simuq.environment import fermion\n",
    "from simuq.qsystem import QSystem\n",
    "from simuq.transformation import JW_transform\n",
    "\n",
    "tau = 3.3\n",
    "alpha = 3\n",
    "Jmax = 1\n",
    "D = 3\n",
    "\n",
    "qs = QSystem()\n",
    "f = [fermion(qs) for i in range(3)]\n",
    "\n",
    "gamma_x = [f[i].a + f[i].c for i in range(3)]\n",
    "gamma_y = [-1j * (f[i].a - f[i].c) for i in range(3)]\n",
    "\n",
    "\n",
    "def model(alpha, J01, J12, J20):\n",
    "    J = [[0, J01, -J20], [-J01, 0, J12], [J20, -J12, 0]]\n",
    "\n",
    "    h = 0\n",
    "    for i in range(3):\n",
    "        h += 1j * alpha * gamma_x[i] * gamma_y[i]\n",
    "    for i in range(3):\n",
    "        for j in range(3):\n",
    "            h += 0.5j * J[i][j] * gamma_x[i] * gamma_x[j]\n",
    "\n",
    "    return h\n",
    "\n",
    "\n",
    "def branch(J01_init, J01_end, J12_init, J12_end, J20_init, J20_end):\n",
    "    def ret(t):\n",
    "        J01 = J01_init + (J01_end - J01_init) * (t / tau)\n",
    "        J12 = J12_init + (J12_end - J12_init) * (t / tau)\n",
    "        J20 = J20_init + (J20_end - J20_init) * (t / tau)\n",
    "        return model(alpha, J01, J12, J20)\n",
    "\n",
    "    return ret\n",
    "qs.add_evolution(model(3, 1, 1, 1), 1)\n",
    "new_qs, new_sites = JW_transform(qs)"
   ]
  },
  {
   "cell_type": "code",
   "execution_count": 19,
   "metadata": {},
   "outputs": [
    {
     "data": {
      "text/plain": [
       "[(['Z', '', ''], (-3+0j)),\n",
       " (['', 'Z', ''], (-3+0j)),\n",
       " (['', '', 'Z'], (-3+0j)),\n",
       " (['Y', 'X', ''], (1-0j)),\n",
       " (['Y', 'Z', 'X'], (-1+0j)),\n",
       " (['', 'Y', 'X'], (1-0j))]"
      ]
     },
     "execution_count": 19,
     "metadata": {},
     "output_type": "execute_result"
    }
   ],
   "source": [
    "new_qs.evos[0][0].ham"
   ]
  }
 ],
 "metadata": {
  "kernelspec": {
   "display_name": "lpy",
   "language": "python",
   "name": "python3"
  },
  "language_info": {
   "codemirror_mode": {
    "name": "ipython",
    "version": 3
   },
   "file_extension": ".py",
   "mimetype": "text/x-python",
   "name": "python",
   "nbconvert_exporter": "python",
   "pygments_lexer": "ipython3",
   "version": "3.11.4"
  },
  "orig_nbformat": 4
 },
 "nbformat": 4,
 "nbformat_minor": 2
}
