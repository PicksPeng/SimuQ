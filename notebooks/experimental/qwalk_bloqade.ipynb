{
 "cells": [
  {
   "cell_type": "code",
   "execution_count": 1,
   "id": "42e26405",
   "metadata": {
    "ExecuteTime": {
     "end_time": "2023-08-11T23:48:10.262360Z",
     "start_time": "2023-08-11T23:48:10.242363Z"
    }
   },
   "outputs": [],
   "source": [
    "%load_ext autoreload\n",
    "%autoreload 2\n",
    "import sys\n",
    "sys.path.append('..')"
   ]
  },
  {
   "cell_type": "code",
   "execution_count": 2,
   "id": "a7feecc8",
   "metadata": {
    "ExecuteTime": {
     "end_time": "2023-08-11T23:48:12.103427Z",
     "start_time": "2023-08-11T23:48:10.895911Z"
    }
   },
   "outputs": [],
   "source": [
    "from simuq.solver import generate_as\n",
    "from simuq.systems.qwalk_chain import GenQS\n",
    "#from simuq.aais.rydberg1d import Rydberg1DQMachineFactory\n",
    "#from simuq.backends.bloqade_rydberg import transpile\n",
    "from simuq.aais.heisenberg import HeisenbergQMachineFactory\n",
    "from simuq.backends.qiskit_iontrap import transpile"
   ]
  },
  {
   "cell_type": "code",
   "execution_count": 3,
   "id": "5cd17f14",
   "metadata": {
    "ExecuteTime": {
     "end_time": "2023-08-11T23:48:12.139596Z",
     "start_time": "2023-08-11T23:48:12.108436Z"
    }
   },
   "outputs": [],
   "source": [
    "N = 5\n",
    "n = N - 1\n",
    "qs = GenQS(N, lamb = 5, T=1)\n",
    "mach = HeisenbergQMachineFactory.generate_qmachine(n)"
   ]
  },
  {
   "cell_type": "code",
   "execution_count": 4,
   "id": "ceeeebcc",
   "metadata": {
    "ExecuteTime": {
     "end_time": "2023-08-11T23:48:12.653484Z",
     "start_time": "2023-08-11T23:48:12.140319Z"
    }
   },
   "outputs": [
    {
     "name": "stdout",
     "output_type": "stream",
     "text": [
      "0.4711589813232422\n",
      "(<qiskit.circuit.quantumcircuit.QuantumCircuit object at 0x1142f6220>, 'from braket.circuits import Circuit\\ncirc = Circuit().zz(0, 1, 9.999999998367267).zz(2, 3, 9.999999998367276).rx(0, 2.0000000014534844).rx(3, 1.9999999965651118).zz(1, 2, 9.999999998367269).rz(0, 9.99999999836727).rx(1, 2.0000000014534813).rx(2, 2.0000000014534804).rz(3, 9.99999999836727)')\n"
     ]
    }
   ],
   "source": [
    "Trot = 1\n",
    "tol = 0.5\n",
    "\n",
    "import time\n",
    "start_time = time.time()\n",
    "code = transpile(*generate_as(qs, mach, Trot, solver = 'least_squares', solver_tol = tol))\n",
    "end_time = time.time()\n",
    "\n",
    "print(end_time - start_time)\n",
    "print(code)"
   ]
  },
  {
   "cell_type": "code",
   "execution_count": 5,
   "id": "6ff71ee8",
   "metadata": {
    "ExecuteTime": {
     "end_time": "2023-08-11T23:48:12.808484Z",
     "start_time": "2023-08-11T23:48:12.651436Z"
    }
   },
   "outputs": [
    {
     "name": "stdout",
     "output_type": "stream",
     "text": [
      "First round time:  0.0947120189666748\n",
      "Second round time:  0.015208005905151367\n",
      "0.11734890937805176\n",
      "(<qiskit.circuit.quantumcircuit.QuantumCircuit object at 0x1142f6130>, 'from braket.circuits import Circuit\\ncirc = Circuit().zz(0, 1, 9.999999999999998).zz(2, 3, 9.999999999999998).rx(0, 2.0).rx(3, 1.9999999999999993).zz(1, 2, 10.000000000000002).rz(0, 10.0).rx(1, 1.9999999999999993).rx(2, 2.000000000000001).rz(3, 10.000000000000004)')\n"
     ]
    }
   ],
   "source": [
    "Trot = 1\n",
    "tol = 0.5\n",
    "\n",
    "import time\n",
    "start_time = time.time()\n",
    "code = transpile(*generate_as(qs, mach, Trot, solver = 'old_least_squares', solver_tol = tol))\n",
    "end_time = time.time()\n",
    "\n",
    "print(end_time - start_time)\n",
    "print(code)"
   ]
  },
  {
   "cell_type": "code",
   "execution_count": 6,
   "id": "08a60051",
   "metadata": {},
   "outputs": [
    {
     "name": "stdout",
     "output_type": "stream",
     "text": [
      "0.0980825424194336\n",
      "(<qiskit.circuit.quantumcircuit.QuantumCircuit object at 0x7f95d01e6970>, 'from braket.circuits import Circuit\\ncirc = Circuit().zz(0, 1, 10.0).zz(2, 3, 10.0).rz(0, -3.141592653589793).rx(0, -2.0000000000000018).rz(0, 3.141592653589793).rx(3, 2.0000000000000018).zz(1, 2, 10.0).rz(0, 10.0).rx(1, 2.0000000000000018).rx(2, 2.0000000000000018).rz(3, 10.0)')\n"
     ]
    }
   ],
   "source": [
    "Trot = 1\n",
    "tol = 0.5\n",
    "\n",
    "import time\n",
    "start_time = time.time()\n",
    "code = transpile(*generate_as(qs, mach, Trot, solver = 'dreal', solver_tol = tol))\n",
    "end_time = time.time()\n",
    "\n",
    "print(end_time - start_time)\n",
    "print(code)"
   ]
  },
  {
   "cell_type": "code",
   "execution_count": null,
   "id": "82a0a418",
   "metadata": {},
   "outputs": [],
   "source": []
  }
 ],
 "metadata": {
  "kernelspec": {
   "display_name": "Python 3 (ipykernel)",
   "language": "python",
   "name": "python3"
  },
  "language_info": {
   "codemirror_mode": {
    "name": "ipython",
    "version": 3
   },
   "file_extension": ".py",
   "mimetype": "text/x-python",
   "name": "python",
   "nbconvert_exporter": "python",
   "pygments_lexer": "ipython3",
   "version": "3.9.6"
  }
 },
 "nbformat": 4,
 "nbformat_minor": 5
}
