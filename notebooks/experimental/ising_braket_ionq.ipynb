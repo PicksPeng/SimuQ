{
 "cells": [
  {
   "cell_type": "code",
   "execution_count": null,
   "id": "42b87d5f",
   "metadata": {},
   "outputs": [],
   "source": [
    "%load_ext autoreload\n",
    "%autoreload 2\n",
    "import sys\n",
    "sys.path.append('..')"
   ]
  },
  {
   "cell_type": "code",
   "execution_count": null,
   "id": "0a2fc1e3",
   "metadata": {},
   "outputs": [],
   "source": [
    "from src.simuq.systems.ising import GenQS\n",
    "from src.simuq.braket import BraketProvider"
   ]
  },
  {
   "cell_type": "code",
   "execution_count": null,
   "outputs": [],
   "source": [
    "awsp = BraketProvider()"
   ],
   "metadata": {
    "collapsed": false
   },
   "id": "3810a2de52e2562f"
  },
  {
   "cell_type": "code",
   "execution_count": null,
   "id": "8574407e",
   "metadata": {},
   "outputs": [],
   "source": [
    "N = 6\n",
    "T = 1.0\n",
    "qs = GenQS(N, T, 1, 1, is_chain=True)"
   ]
  },
  {
   "cell_type": "code",
   "execution_count": null,
   "id": "cfe90e6e",
   "metadata": {},
   "outputs": [],
   "source": [
    "awsp.compile(qs, 'ionq', 'Harmony', 'heisenberg')"
   ]
  },
  {
   "cell_type": "code",
   "execution_count": null,
   "id": "82fd8a6d",
   "metadata": {},
   "outputs": [],
   "source": [
    "awsp.run(shots=4096, on_simulator=True)"
   ]
  },
  {
   "cell_type": "code",
   "execution_count": null,
   "id": "2ffb0bad",
   "metadata": {},
   "outputs": [],
   "source": [
    "awsp.results()"
   ]
  },
  {
   "cell_type": "code",
   "execution_count": null,
   "id": "f4091b82",
   "metadata": {},
   "outputs": [],
   "source": [
    "type(awsp.results())"
   ]
  },
  {
   "cell_type": "code",
   "execution_count": null,
   "outputs": [],
   "source": [
    "awsp.run(shots=10, on_simulator=False)"
   ],
   "metadata": {
    "collapsed": false
   },
   "id": "7e49ebd4055533e0"
  },
  {
   "cell_type": "code",
   "execution_count": null,
   "outputs": [],
   "source": [
    "awsp.results()"
   ],
   "metadata": {
    "collapsed": false
   },
   "id": "ea448af0a545beaf"
  },
  {
   "cell_type": "code",
   "execution_count": null,
   "outputs": [],
   "source": [
    "print(awsp.prog)"
   ],
   "metadata": {
    "collapsed": false
   },
   "id": "d23b978ccde80234"
  },
  {
   "cell_type": "code",
   "execution_count": null,
   "outputs": [],
   "source": [],
   "metadata": {
    "collapsed": false
   },
   "id": "4f7eedcba2f98d2d"
  }
 ],
 "metadata": {
  "kernelspec": {
   "display_name": "Python 3 (ipykernel)",
   "language": "python",
   "name": "python3"
  },
  "language_info": {
   "codemirror_mode": {
    "name": "ipython",
    "version": 3
   },
   "file_extension": ".py",
   "mimetype": "text/x-python",
   "name": "python",
   "nbconvert_exporter": "python",
   "pygments_lexer": "ipython3",
   "version": "3.9.6"
  }
 },
 "nbformat": 4,
 "nbformat_minor": 5
}
