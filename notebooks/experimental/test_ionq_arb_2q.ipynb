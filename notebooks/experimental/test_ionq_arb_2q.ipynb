{
 "cells": [
  {
   "cell_type": "code",
   "execution_count": 1,
   "id": "90795bcd",
   "metadata": {},
   "outputs": [],
   "source": [
    "from simuq.ionq import IonQProvider\n",
    "ionq = IonQProvider(from_file=\"../../../ionq_API_key\")"
   ]
  },
  {
   "cell_type": "code",
   "execution_count": 2,
   "id": "c18022c4",
   "metadata": {},
   "outputs": [],
   "source": [
    "from simuq import QSystem, Qubit\n",
    "import numpy as np\n",
    "import scipy as sp\n",
    "X=np.array([[0,1],[1,0]])\n",
    "Y=np.array([[0,-1j],[1j,0]])\n",
    "Z=np.array([[1,0],[0,-1]])\n"
   ]
  },
  {
   "cell_type": "code",
   "execution_count": 4,
   "id": "30978389",
   "metadata": {},
   "outputs": [],
   "source": [
    "qs = QSystem()\n",
    "q0, q1 = Qubit(qs), Qubit(qs)\n",
    "h = q0.X*q1.Y+q0.X*q1.X*0.5\n",
    "qs.add_evolution(h, 1)\n",
    "ionq.compile(qs, aais=\"two_pauli\")\n",
    "solved_unitary=ionq.prog_obj.to_matrix()\n",
    "h1=np.kron(X,Y)+np.kron(X,X)*0.5\n",
    "ideal_unitary=sp.linalg.expm(-1j*h1)"
   ]
  },
  {
   "cell_type": "code",
   "execution_count": 6,
   "id": "ba92d346",
   "metadata": {},
   "outputs": [],
   "source": [
    "qs = QSystem()\n",
    "q0, q1 = Qubit(qs), Qubit(qs)\n",
    "h = q0.X*q1.Y+q0.X*q1.X*0.5\n",
    "qs.add_evolution(h, 1)\n",
    "ionq.compile(qs, aais=\"two_pauli\")\n",
    "solved_unitary=ionq.prog_obj.to_matrix()\n",
    "h1=np.kron(X,Y)+np.kron(X,X)*0.5\n",
    "ideal_unitary=sp.linalg.expm(-1j*h1)"
   ]
  },
  {
   "cell_type": "code",
   "execution_count": 7,
   "id": "7d6b207a",
   "metadata": {},
   "outputs": [
    {
     "name": "stdout",
     "output_type": "stream",
     "text": [
      "1.4982550018291727e-08\n"
     ]
    }
   ],
   "source": [
    "tmp=solved_unitary@ideal_unitary.T.conj()\n",
    "tmp/=tmp[0,0]\n",
    "print(np.linalg.norm(tmp-np.eye(4)))"
   ]
  },
  {
   "cell_type": "code",
   "execution_count": 9,
   "id": "17a40c29",
   "metadata": {},
   "outputs": [],
   "source": [
    "qs = QSystem()\n",
    "q0, q1 = Qubit(qs), Qubit(qs)\n",
    "h = q0.X*q1.X+q0.Y*q1.Y\n",
    "qs.add_evolution(h, 1)\n",
    "ionq.compile(qs, trotter_num=6, aais=\"two_pauli\", trotter_mode=1)\n",
    "solved_unitary=ionq.prog_obj.to_matrix()\n",
    "h1=np.kron(Y,Y)+np.kron(X,X)\n",
    "ideal_unitary=sp.linalg.expm(-1j*h1)"
   ]
  },
  {
   "cell_type": "code",
   "execution_count": 10,
   "id": "46f289f2",
   "metadata": {},
   "outputs": [
    {
     "name": "stdout",
     "output_type": "stream",
     "text": [
      "0.00011754850476016472\n"
     ]
    }
   ],
   "source": [
    "tmp=solved_unitary@ideal_unitary.T.conj()\n",
    "tmp/=tmp[0,0]\n",
    "print(np.linalg.norm(tmp-np.eye(4)))"
   ]
  },
  {
   "cell_type": "code",
   "execution_count": null,
   "id": "9ad3b9eb",
   "metadata": {},
   "outputs": [],
   "source": []
  }
 ],
 "metadata": {
  "kernelspec": {
   "display_name": "simuq-0.3.0",
   "language": "python",
   "name": "simuq-0.3.0"
  },
  "language_info": {
   "codemirror_mode": {
    "name": "ipython",
    "version": 3
   },
   "file_extension": ".py",
   "mimetype": "text/x-python",
   "name": "python",
   "nbconvert_exporter": "python",
   "pygments_lexer": "ipython3",
   "version": "3.9.15"
  }
 },
 "nbformat": 4,
 "nbformat_minor": 5
}
