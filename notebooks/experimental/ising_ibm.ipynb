{
 "cells": [
  {
   "cell_type": "code",
   "execution_count": 1,
   "id": "42b87d5f",
   "metadata": {},
   "outputs": [],
   "source": [
    "%load_ext autoreload\n",
    "%autoreload 2\n",
    "import sys\n",
    "sys.path.append('..')\n",
    "sys.path.append('../simuq')"
   ]
  },
  {
   "cell_type": "code",
   "execution_count": 2,
   "id": "0a2fc1e3",
   "metadata": {},
   "outputs": [],
   "source": [
    "from simuq.systems.ising import GenQS\n",
    "from simuq.ibm import IBMProvider"
   ]
  },
  {
   "cell_type": "code",
   "execution_count": 5,
   "id": "36b90c06",
   "metadata": {},
   "outputs": [],
   "source": [
    "with open(\"../../qiskit_APIKEY\", \"r\") as f:\n",
    "    APIKEY = f.read().strip()\n",
    "ibm = IBMProvider(APIKEY, hub=\"ibm-q\", group=\"open\", project=\"main\")"
   ]
  },
  {
   "cell_type": "code",
   "execution_count": 6,
   "id": "2fe81768",
   "metadata": {},
   "outputs": [
    {
     "name": "stdout",
     "output_type": "stream",
     "text": [
      "[<IBMQSimulator('ibmq_qasm_simulator') from IBMQ(hub='ibm-q', group='open', project='main')>, <IBMQBackend('ibmq_lima') from IBMQ(hub='ibm-q', group='open', project='main')>, <IBMQBackend('ibmq_belem') from IBMQ(hub='ibm-q', group='open', project='main')>, <IBMQBackend('ibmq_quito') from IBMQ(hub='ibm-q', group='open', project='main')>, <IBMQSimulator('simulator_statevector') from IBMQ(hub='ibm-q', group='open', project='main')>, <IBMQSimulator('simulator_mps') from IBMQ(hub='ibm-q', group='open', project='main')>, <IBMQSimulator('simulator_extended_stabilizer') from IBMQ(hub='ibm-q', group='open', project='main')>, <IBMQSimulator('simulator_stabilizer') from IBMQ(hub='ibm-q', group='open', project='main')>, <IBMQBackend('ibmq_jakarta') from IBMQ(hub='ibm-q', group='open', project='main')>, <IBMQBackend('ibmq_manila') from IBMQ(hub='ibm-q', group='open', project='main')>, <IBMQBackend('ibm_lagos') from IBMQ(hub='ibm-q', group='open', project='main')>, <IBMQBackend('ibm_nairobi') from IBMQ(hub='ibm-q', group='open', project='main')>, <IBMQBackend('ibm_perth') from IBMQ(hub='ibm-q', group='open', project='main')>]\n"
     ]
    }
   ],
   "source": [
    "ibm.supported_backends()"
   ]
  },
  {
   "cell_type": "code",
   "execution_count": 7,
   "id": "8574407e",
   "metadata": {},
   "outputs": [],
   "source": [
    "N = 2\n",
    "T = 1.0\n",
    "qs = GenQS(N, T, 1, 1, is_chain=True)"
   ]
  },
  {
   "cell_type": "code",
   "execution_count": 8,
   "id": "cfe90e6e",
   "metadata": {},
   "outputs": [],
   "source": [
    "ibm.compile(qs)"
   ]
  },
  {
   "cell_type": "code",
   "execution_count": 9,
   "id": "82fd8a6d",
   "metadata": {},
   "outputs": [
    {
     "name": "stdout",
     "output_type": "stream",
     "text": [
      "<qiskit.providers.ibmq.job.ibmqjob.IBMQJob object at 0x7f3369d0de10>\n"
     ]
    }
   ],
   "source": [
    "ibm.run(shots = 4096)"
   ]
  },
  {
   "cell_type": "code",
   "execution_count": 14,
   "id": "2ffb0bad",
   "metadata": {},
   "outputs": [
    {
     "data": {
      "text/plain": [
       "{'00': 0.3046875, '01': 0.627685546875, '10': 0.049560546875}"
      ]
     },
     "execution_count": 14,
     "metadata": {},
     "output_type": "execute_result"
    }
   ],
   "source": [
    "ibm.results()"
   ]
  },
  {
   "cell_type": "code",
   "execution_count": null,
   "id": "f4091b82",
   "metadata": {},
   "outputs": [],
   "source": []
  }
 ],
 "metadata": {
  "kernelspec": {
   "display_name": "Python 3 (ipykernel)",
   "language": "python",
   "name": "python3"
  },
  "language_info": {
   "codemirror_mode": {
    "name": "ipython",
    "version": 3
   },
   "file_extension": ".py",
   "mimetype": "text/x-python",
   "name": "python",
   "nbconvert_exporter": "python",
   "pygments_lexer": "ipython3",
   "version": "3.11.3"
  }
 },
 "nbformat": 4,
 "nbformat_minor": 5
}
