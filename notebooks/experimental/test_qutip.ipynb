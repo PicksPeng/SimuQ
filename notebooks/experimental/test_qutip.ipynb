{
 "cells": [
  {
   "cell_type": "code",
   "execution_count": 1,
   "id": "42b87d5f",
   "metadata": {},
   "outputs": [],
   "source": [
    "%load_ext autoreload\n",
    "%autoreload 2\n",
    "import sys\n",
    "sys.path.append('..')"
   ]
  },
  {
   "cell_type": "code",
   "execution_count": 2,
   "id": "90795bcd",
   "metadata": {},
   "outputs": [],
   "source": [
    "from simuq.qutip import QuTiPProvider\n",
    "qpp = QuTiPProvider()"
   ]
  },
  {
   "cell_type": "code",
   "execution_count": 3,
   "id": "c18022c4",
   "metadata": {},
   "outputs": [],
   "source": [
    "from simuq.qsystem import QSystem, qubit\n",
    "qs = QSystem()\n",
    "q0, q1 = qubit(qs, 'q0'), qubit(qs, 'q1')\n",
    "h = q0.X\n",
    "qs.add_evolution(h, 1)"
   ]
  },
  {
   "cell_type": "code",
   "execution_count": 4,
   "id": "28c83d41",
   "metadata": {},
   "outputs": [
    {
     "name": "stdout",
     "output_type": "stream",
     "text": [
      "Compiled.\n",
      "Solved.\n",
      "Order of sites: ['q0', 'q1']\n"
     ]
    },
    {
     "data": {
      "text/plain": [
       "{'00': 0.2919499925618451, '01': 0.0, '10': 0.7080500074381548, '11': 0.0}"
      ]
     },
     "execution_count": 4,
     "metadata": {},
     "output_type": "execute_result"
    }
   ],
   "source": [
    "qpp.compile(qs)\n",
    "qpp.run()\n",
    "qpp.print_sites()\n",
    "qpp.results()"
   ]
  },
  {
   "cell_type": "code",
   "execution_count": 5,
   "id": "3606fddd",
   "metadata": {},
   "outputs": [],
   "source": [
    "from simuq.systems.ising import GenQS\n",
    "N = 6\n",
    "T = 1.0\n",
    "qs = GenQS(N, T, 1, 1, is_chain=True)"
   ]
  },
  {
   "cell_type": "code",
   "execution_count": 6,
   "id": "cfe90e6e",
   "metadata": {},
   "outputs": [
    {
     "name": "stdout",
     "output_type": "stream",
     "text": [
      "Compiled.\n",
      "Solved.\n",
      "Order of sites: ['Qubit0', 'Qubit1', 'Qubit2', 'Qubit3', 'Qubit4', 'Qubit5']\n"
     ]
    },
    {
     "data": {
      "text/plain": [
       "{'000000': 0.13909131418319828,\n",
       " '000001': 0.07822605750525922,\n",
       " '000010': 0.0019891738016797403,\n",
       " '000011': 0.057755821522070594,\n",
       " '000100': 0.012701525310985506,\n",
       " '000101': 0.0010028122960455785,\n",
       " '000110': 0.008172081460361962,\n",
       " '000111': 0.03514806460942275,\n",
       " '001000': 0.012701525310985498,\n",
       " '001001': 0.01066912189723169,\n",
       " '001010': 0.000641148899813737,\n",
       " '001011': 0.001593467823500089,\n",
       " '001100': 0.01879554437338071,\n",
       " '001101': 0.006197928749543394,\n",
       " '001110': 0.011977895680550896,\n",
       " '001111': 0.0295336082233224,\n",
       " '010000': 0.0019891738016797433,\n",
       " '010001': 0.0010065660702148565,\n",
       " '010010': 4.503895171517624e-05,\n",
       " '010011': 0.0013630767087809722,\n",
       " '010100': 0.0006411488998137373,\n",
       " '010101': 0.0004487715934167598,\n",
       " '010110': 0.0001412216815805133,\n",
       " '010111': 0.000206700977356854,\n",
       " '011000': 0.008172081460361967,\n",
       " '011001': 0.00633462703209487,\n",
       " '011010': 0.00014122168158051387,\n",
       " '011011': 0.0034243823720158132,\n",
       " '011100': 0.011977895680550894,\n",
       " '011101': 0.005176742908873442,\n",
       " '011110': 0.0045842878227374175,\n",
       " '011111': 0.011639683592990061,\n",
       " '100000': 0.07822605750525928,\n",
       " '100001': 0.04561611063937826,\n",
       " '100010': 0.0010065660702148586,\n",
       " '100011': 0.02992947999016383,\n",
       " '100100': 0.010669121897231702,\n",
       " '100101': 0.0011330190338807878,\n",
       " '100110': 0.006334627032094861,\n",
       " '100111': 0.02561858746394771,\n",
       " '101000': 0.0010028122960455768,\n",
       " '101001': 0.0011330190338807865,\n",
       " '101010': 0.00044877159341675946,\n",
       " '101011': 0.00017538455630302608,\n",
       " '101100': 0.006197928749543394,\n",
       " '101101': 0.0028362515078185074,\n",
       " '101110': 0.0051767429088734355,\n",
       " '101111': 0.010078229724762109,\n",
       " '110000': 0.05775582152207062,\n",
       " '110001': 0.02992947999016384,\n",
       " '110010': 0.0013630767087809738,\n",
       " '110011': 0.02767913030254038,\n",
       " '110100': 0.0015934678235000911,\n",
       " '110101': 0.0001753845563030268,\n",
       " '110110': 0.00342438237201581,\n",
       " '110111': 0.010901441439849705,\n",
       " '111000': 0.03514806460942275,\n",
       " '111001': 0.025618587463947715,\n",
       " '111010': 0.00020670097735685483,\n",
       " '111011': 0.010901441439849714,\n",
       " '111100': 0.02953360822332239,\n",
       " '111101': 0.0100782297247621,\n",
       " '111110': 0.011639683592990054,\n",
       " '111111': 0.034979076367193364}"
      ]
     },
     "execution_count": 6,
     "metadata": {},
     "output_type": "execute_result"
    }
   ],
   "source": [
    "qpp.compile(qs)\n",
    "qpp.run(shots = 4096, on_simulator = True)\n",
    "qpp.print_sites()\n",
    "qpp.results()"
   ]
  },
  {
   "cell_type": "code",
   "execution_count": null,
   "id": "051b259c",
   "metadata": {},
   "outputs": [],
   "source": []
  },
  {
   "cell_type": "code",
   "execution_count": null,
   "id": "a379e3f0",
   "metadata": {},
   "outputs": [],
   "source": []
  }
 ],
 "metadata": {
  "kernelspec": {
   "display_name": "Python 3 (ipykernel)",
   "language": "python",
   "name": "python3"
  },
  "language_info": {
   "codemirror_mode": {
    "name": "ipython",
    "version": 3
   },
   "file_extension": ".py",
   "mimetype": "text/x-python",
   "name": "python",
   "nbconvert_exporter": "python",
   "pygments_lexer": "ipython3",
   "version": "3.9.15"
  }
 },
 "nbformat": 4,
 "nbformat_minor": 5
}
