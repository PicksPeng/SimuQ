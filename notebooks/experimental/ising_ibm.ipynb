{
 "cells": [
  {
   "cell_type": "code",
   "execution_count": 1,
   "id": "42b87d5f",
   "metadata": {},
   "outputs": [],
   "source": [
    "%load_ext autoreload\n",
    "%autoreload 2\n",
    "import sys\n",
    "sys.path.append('../../src/')"
   ]
  },
  {
   "cell_type": "code",
   "execution_count": 2,
   "id": "0a2fc1e3",
   "metadata": {},
   "outputs": [],
   "source": [
    "from simuq.systems.ising import GenQS\n",
    "from simuq.ibm import IBMProvider"
   ]
  },
  {
   "cell_type": "code",
   "execution_count": 14,
   "id": "36b90c06",
   "metadata": {},
   "outputs": [],
   "source": [
    "with open(\"../../../qiskit_APIKEY\", \"r\") as f:\n",
    "    APIKEY = f.read().strip()\n",
    "ibm = IBMProvider(APIKEY)"
   ]
  },
  {
   "cell_type": "code",
   "execution_count": 15,
   "id": "2fe81768",
   "metadata": {},
   "outputs": [
    {
     "name": "stdout",
     "output_type": "stream",
     "text": [
      "[<IBMBackend('ibm_nazca')>, <IBMBackend('ibm_hanoi')>, <IBMBackend('ibm_sherbrooke')>, <IBMBackend('ibm_brisbane')>, <IBMBackend('ibm_algiers')>, <IBMBackend('ibm_cusco')>, <IBMBackend('ibm_torino')>, <IBMBackend('ibm_kyoto')>, <IBMBackend('simulator_mps')>, <IBMBackend('ibmq_qasm_simulator')>, <IBMBackend('ibm_osaka')>, <IBMBackend('simulator_extended_stabilizer')>, <IBMBackend('ibm_cairo')>, <IBMBackend('simulator_stabilizer')>, <IBMBackend('simulator_statevector')>]\n"
     ]
    }
   ],
   "source": [
    "ibm.supported_backends()"
   ]
  },
  {
   "cell_type": "code",
   "execution_count": 16,
   "id": "8574407e",
   "metadata": {},
   "outputs": [],
   "source": [
    "N = 2\n",
    "T = 1.0\n",
    "qs = GenQS(N, T, 1, 1, is_chain=True)"
   ]
  },
  {
   "cell_type": "code",
   "execution_count": 17,
   "id": "cfe90e6e",
   "metadata": {},
   "outputs": [],
   "source": [
    "ibm.compile(qs,\"ibm_sherbrooke\",use_pulse=False)"
   ]
  },
  {
   "cell_type": "code",
   "execution_count": 18,
   "id": "20ec2130",
   "metadata": {},
   "outputs": [
    {
     "name": "stdout",
     "output_type": "stream",
     "text": [
      "<qiskit_aer.jobs.aerjob.AerJob object at 0x7f9a4c92f9b0>\n"
     ]
    }
   ],
   "source": [
    "ibm.run(shots=1024,on_simulator=True)"
   ]
  },
  {
   "cell_type": "code",
   "execution_count": 19,
   "id": "2ffb0bad",
   "metadata": {},
   "outputs": [
    {
     "data": {
      "text/plain": [
       "{'10': 0.1220703125, '01': 0.1240234375, '00': 0.388671875, '11': 0.365234375}"
      ]
     },
     "execution_count": 19,
     "metadata": {},
     "output_type": "execute_result"
    }
   ],
   "source": [
    "ibm.results(on_simulator=True)"
   ]
  }
 ],
 "metadata": {
  "kernelspec": {
   "display_name": "Python 3 (ipykernel)",
   "language": "python",
   "name": "python3"
  },
  "language_info": {
   "codemirror_mode": {
    "name": "ipython",
    "version": 3
   },
   "file_extension": ".py",
   "mimetype": "text/x-python",
   "name": "python",
   "nbconvert_exporter": "python",
   "pygments_lexer": "ipython3",
   "version": "3.12.2"
  }
 },
 "nbformat": 4,
 "nbformat_minor": 5
}
