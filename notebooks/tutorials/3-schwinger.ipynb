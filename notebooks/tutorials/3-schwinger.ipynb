{
 "cells": [
  {
   "cell_type": "markdown",
   "metadata": {},
   "source": [
    "# Simulation of Schwinger model\n",
    "\n",
    "In this notebook, we investigate realizing (1 + 1)-dimensional quantum electrodynamics (the Schwinger model) on a few-qubit trapped-ion quantum computer. We implement and deploy the algorithm developed in [[1605.04570]](https://arxiv.org/abs/1605.04570). \n",
    "\n",
    "## 1. Introduction\n",
    "\n",
    "\n",
    "## 2. Hamiltonian to be simulated\n",
    "\n",
    "After some simplification, the Hamiltonian of the Schwinger model can be written as\n",
    "$$\n",
    "H=J \\sum_{i=1}^{N-1}(\\frac{1}{2} \\sum_{j=1}^i\\left[Z_j+(-1)^j\\right])^2+\\frac{w}{2}\\sum_{i=1}^{N-1} (X_iX_{i+1}+Y_iY_{i+1})+\\frac{m}{2} \\sum_{i=1}^N(-1)^n Z_i\n",
    "$$\n",
    "\n",
    "where the first part represents Long-range interaction, the second part represents particle–antiparticle creation, the last part represents Particle mass.\n",
    "\n",
    "The challenge of simulating this model is that the Hamiltonian is not a sum of local terms, it requires long range interactions. Fortunately, the trapped-ion quantum computer can be programmed to implement the long range interactions.\n",
    "\n",
    "First, we program the Hamiltonian as discusses."
   ]
  },
  {
   "cell_type": "code",
   "execution_count": 1,
   "metadata": {},
   "outputs": [],
   "source": [
    "# Generate a Schwinger model in pure spin Hamiltonian\n",
    "\n",
    "import numpy as np\n",
    "from simuq.qsystem import QSystem\n",
    "from simuq.environment import qubit\n",
    "\n",
    "def Schwinger(n, T=1, m=0.5, w=1, J=1, eps_0=0):\n",
    "    qs = QSystem()\n",
    "    q = [qubit(qs) for i in range(n)]\n",
    "    H = 0\n",
    "    for i in range(n - 1): # the first part\n",
    "        S = 0\n",
    "        for j in range(i):\n",
    "            S += (q[j].Z + (-1)**j)/2\n",
    "        H += J * (eps_0 + S) * (eps_0 + S)\n",
    "    for i in range(n):\n",
    "        H += m / 2 * (-1)**i * q[i].Z\n",
    "    for i in range(n - 1):\n",
    "        H += w / 2 * (q[i].X * q[i+1].X + q[i].Y * q[i+1].Y)\n",
    "\n",
    "    qs.add_evolution(H, T)\n",
    "    return qs"
   ]
  },
  {
   "cell_type": "markdown",
   "metadata": {},
   "source": [
    "Next, we create IonQ backend and run the simulation."
   ]
  },
  {
   "cell_type": "code",
   "execution_count": 6,
   "metadata": {},
   "outputs": [],
   "source": [
    "from simuq.providers import IonQProvider\n",
    "\n",
    "ionqp = IonQProvider(from_file=\"../../../ionq_API_key\")"
   ]
  },
  {
   "cell_type": "markdown",
   "metadata": {},
   "source": [
    "The initial state is all vaccum, which is $|1010\\rangle$ in the encoding of the Schwinger model."
   ]
  },
  {
   "cell_type": "code",
   "execution_count": 7,
   "metadata": {},
   "outputs": [],
   "source": [
    "def Xgate(q):\n",
    "    gate = {\"gate\": \"gpi\", \"target\": q, \"phase\": 0.}\n",
    "    return gate\n",
    "state_prep = {\"circuit\": [Xgate(0), Xgate(2)]}"
   ]
  },
  {
   "cell_type": "markdown",
   "metadata": {},
   "source": [
    "The result is evaluated by counting the number of particles and antiparticles."
   ]
  },
  {
   "cell_type": "code",
   "execution_count": 14,
   "metadata": {},
   "outputs": [],
   "source": [
    "import matplotlib.pyplot as plt\n",
    "\n",
    "def draw_results(steps, results_list):\n",
    "    density_list = []\n",
    "    for result in results_list:\n",
    "        density = 0\n",
    "        for state in result:\n",
    "            density += result[state] * sum(1 for a, b in zip(state, \"0101\") if a != b) / 4\n",
    "        density_list.append(density)\n",
    "    plt.plot(steps, density_list, \"o-\")"
   ]
  },
  {
   "cell_type": "markdown",
   "metadata": {},
   "source": [
    "Finally, we can run the simulation and plot the results."
   ]
  },
  {
   "cell_type": "code",
   "execution_count": 18,
   "metadata": {},
   "outputs": [
    {
     "data": {
      "image/png": "[encoded data removed]",
      "text/plain": [
       "<Figure size 640x480 with 1 Axes>"
      ]
     },
     "metadata": {},
     "output_type": "display_data"
    }
   ],
   "source": [
    "import time\n",
    "timestep=np.linspace(0, np.pi/2, 20)\n",
    "results_list = []\n",
    "for t in timestep:\n",
    "    walk = Schwinger(4, t)\n",
    "    ionqp.compile(walk, backend=\"aria-1\", trotter_num=14, state_prep=state_prep)\n",
    "    ionqp.run(shots=4096, on_simulator=True, verbose=-1)\n",
    "    while True:\n",
    "        time.sleep(1)\n",
    "        res = ionqp.results(verbose=-1)\n",
    "        if res is not None:\n",
    "            break\n",
    "    results_list.append(res)\n",
    "\n",
    "draw_results(timestep, results_list)"
   ]
  }
 ],
 "metadata": {
  "kernelspec": {
   "display_name": "lpy",
   "language": "python",
   "name": "python3"
  },
  "language_info": {
   "codemirror_mode": {
    "name": "ipython",
    "version": 3
   },
   "file_extension": ".py",
   "mimetype": "text/x-python",
   "name": "python",
   "nbconvert_exporter": "python",
   "pygments_lexer": "ipython3",
   "version": "3.11.4"
  },
  "orig_nbformat": 4
 },
 "nbformat": 4,
 "nbformat_minor": 2
}
