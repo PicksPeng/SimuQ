{
 "cells": [
  {
   "attachments": {},
   "cell_type": "markdown",
   "id": "5a5028b2",
   "metadata": {},
   "source": [
    "# Simulation of Ising models on multiple devices\n",
    "\n",
    "In this notebook, we investigate the simulation of Ising model using SimuQ. \n",
    "\n",
    "## Ising model\n",
    "\n",
    "An Ising model is a statistical model to study the magnetism of materials. \n",
    "\n",
    "<div> <img src=\"imgs/ising.png\" width=\"300\"/> </div> \n",
    "\n",
    "It contains $N$ qubit sites forming a lattice represented by a graph $G=(V, E)$. The Hamiltonian in our consideration is $$H=\\sum_{(j, k)\\in E}J_{jk} Z_jZ_k+\\sum_{j=1}^{N} h_jX_j.$$ Here $J_{jk}Z_jZ_k$ represents the interaction between sites $j$ and $k$ and $J_{jk}$ is the interaction strength. For $J_{jk}>0$, it represents ferromagnetic material, and $J_{jk}<0 $ represents anti-ferromagnetic material. We also consider an external magnetic field acting $h_j X_j$ on site $j$ in an orthogonal direction. \n",
    "\n",
    "We program the Ising model in SimuQ with Hamiltonian Modeling Language."
   ]
  },
  {
   "cell_type": "code",
   "execution_count": 1,
   "id": "ba3b27d2",
   "metadata": {},
   "outputs": [],
   "source": []
  },
  {
   "cell_type": "markdown",
   "id": "3d00f41b",
   "metadata": {},
   "source": [
    "We consider two types of Ising models in this notebook, with chain or cycle topologies, and let $N=6$ and $T=1$.\n",
    "\n",
    "For simplicity, we set the interaction strength and external field strength to be $1$."
   ]
  },
  {
   "cell_type": "code",
   "execution_count": 4,
   "id": "1ceb66bd",
   "metadata": {},
   "outputs": [],
   "source": []
  },
  {
   "cell_type": "markdown",
   "id": "d9e2d129",
   "metadata": {},
   "source": [
    "We can classically simulate the evolution of Ising models via SimuQ's QuTiP backend, which translates the above systems and simulate them by QuTiP. To do so, we declare a QuTiP provider first."
   ]
  },
  {
   "cell_type": "code",
   "execution_count": 5,
   "id": "94dfe794",
   "metadata": {},
   "outputs": [],
   "source": []
  },
  {
   "cell_type": "markdown",
   "id": "02a5225f",
   "metadata": {},
   "source": [
    "We first simulate ``Ising_cycle``. The following command asks the QuTiP provider to translate the system into QuTiP and store the results internally."
   ]
  },
  {
   "cell_type": "code",
   "execution_count": 6,
   "id": "364d15d5",
   "metadata": {},
   "outputs": [
    {
     "name": "stdout",
     "output_type": "stream",
     "text": [
      "Compiled.\n"
     ]
    }
   ],
   "source": []
  },
  {
   "cell_type": "markdown",
   "id": "c1ebb04e",
   "metadata": {},
   "source": [
    "Then we execute the simulation and retrieve the results as the ground truth data. The results are stored in a dictionary. To extract the probability of obtaining the ground state, we access the dictionary with key ``'000000'``."
   ]
  },
  {
   "cell_type": "code",
   "execution_count": 7,
   "id": "54bb6664",
   "metadata": {},
   "outputs": [
    {
     "name": "stdout",
     "output_type": "stream",
     "text": [
      "Solved.\n"
     ]
    }
   ],
   "source": []
  },
  {
   "cell_type": "code",
   "execution_count": 8,
   "id": "2bef008c",
   "metadata": {},
   "outputs": [
    {
     "name": "stdout",
     "output_type": "stream",
     "text": [
      "0.30216309739832453\n"
     ]
    }
   ],
   "source": []
  },
  {
   "cell_type": "markdown",
   "id": "e5770350",
   "metadata": {},
   "source": [
    "We do the same for ``Ising_chain``."
   ]
  },
  {
   "cell_type": "code",
   "execution_count": null,
   "id": "99326ef8",
   "metadata": {},
   "outputs": [],
   "source": []
  },
  {
   "cell_type": "markdown",
   "id": "af4d071e",
   "metadata": {},
   "source": [
    "In the following, we will use total variational distance to evaluate the simulation results, defined for two distribution $P_1, P_2$ as $$TV(P_1, P_2)=\\frac{1}{2}\\sum_x |P_1[x]-P_2[x]|.$$ We realize it as a function:"
   ]
  },
  {
   "cell_type": "code",
   "execution_count": 9,
   "id": "89f9fa40",
   "metadata": {},
   "outputs": [],
   "source": [
    "def TV(P1, P2):\n",
    "    keys = set(P1.keys()).union(P2.keys())\n",
    "    s = 0\n",
    "    for k in keys :\n",
    "        if k not in P1.keys():\n",
    "            s += P2[k]\n",
    "        elif k not in P2.keys():\n",
    "            s += P1[k]\n",
    "        else :\n",
    "            s += abs(P1[k] - P2[k])\n",
    "    return s / 2"
   ]
  },
  {
   "cell_type": "markdown",
   "id": "918df311",
   "metadata": {},
   "source": [
    "## Deploy on multiple platforms"
   ]
  },
  {
   "cell_type": "markdown",
   "id": "7181d9bb",
   "metadata": {},
   "source": [
    "**CAVEAT: quantum computers are expensive, quera/ionq through braket is $(0.3+0.01*shots)）**"
   ]
  },
  {
   "cell_type": "markdown",
   "id": "e55ed3c5",
   "metadata": {},
   "source": [
    "### QuEra's Neutral Atom Arrays\n",
    "\n",
    "We can access QuEra's devices via Amazon Braket. To install and configure Amazon Braket, please refer to [SimuQ README](https://github.com/PicksPeng/SimuQ/blob/main/README.md).\n",
    "\n",
    "We first create a Braket provider to manage the interactions with SimuQ compiler. "
   ]
  },
  {
   "cell_type": "code",
   "execution_count": 9,
   "id": "6ee0d7ed",
   "metadata": {},
   "outputs": [],
   "source": [
    "from simuq.braket import BraketProvider\n",
    "\n",
    "bp = BraketProvider()"
   ]
  },
  {
   "cell_type": "markdown",
   "id": "640045d0",
   "metadata": {},
   "source": [
    "You can check the supported devices and corresponding AAIS in the Braket provider. "
   ]
  },
  {
   "cell_type": "code",
   "execution_count": 10,
   "id": "419f8bf7",
   "metadata": {},
   "outputs": [
    {
     "name": "stdout",
     "output_type": "stream",
     "text": [
      "Hardware provider: ionq  -  Device name: harmony  -  AAIS supports: ['heis_aais']\n",
      "Hardware provider: ionq  -  Device name: aria-1  -  AAIS supports: ['heis_aais']\n",
      "Hardware provider: quera  -  Device name: Aquila  -  AAIS supports: ['rydberg1d_global', 'rydberg2d_global']\n"
     ]
    }
   ],
   "source": [
    "bp.supported_backends()"
   ]
  },
  {
   "cell_type": "markdown",
   "id": "f841b474",
   "metadata": {},
   "source": [
    "Here we will use QuEra's device named Aquila, with the 2D Rydberg AAIS with global laser control. To compile ``Ising_cycle`` to it, we execute"
   ]
  },
  {
   "cell_type": "code",
   "execution_count": 11,
   "id": "43ef260e",
   "metadata": {},
   "outputs": [],
   "source": [
    "bp.compile(Ising_cycle, provider=\"quera\", device=\"Aquila\", aais=\"rydberg2d_global\", tol=1)"
   ]
  },
  {
   "cell_type": "markdown",
   "id": "a72d9465",
   "metadata": {},
   "source": [
    "We can visualize the compilation results that configure QuEra devices by executing"
   ]
  },
  {
   "cell_type": "code",
   "execution_count": 12,
   "id": "81a4cbaa",
   "metadata": {},
   "outputs": [
    {
     "data": {
      "image/png": "[encoded data removed]",
      "text/plain": [
       "<Figure size 400x400 with 1 Axes>"
      ]
     },
     "metadata": {},
     "output_type": "display_data"
    },
    {
     "data": {
      "image/png": "[encoded data removed]",
      "text/plain": [
       "<Figure size 400x400 with 3 Axes>"
      ]
     },
     "metadata": {},
     "output_type": "display_data"
    }
   ],
   "source": [
    "bp.visualize()"
   ]
  },
  {
   "cell_type": "markdown",
   "id": "d178ecc5",
   "metadata": {},
   "source": [
    "The compilation results can be directly sent to devices to execute. Before we submit them, we use Amazon Braket's simulator to simulate the evolution first."
   ]
  },
  {
   "cell_type": "code",
   "execution_count": 11,
   "id": "db7e0f90",
   "metadata": {},
   "outputs": [
    {
     "name": "stdout",
     "output_type": "stream",
     "text": [
      "Submitted.\n"
     ]
    }
   ],
   "source": [
    "bp.run(on_simulator=True)"
   ]
  },
  {
   "cell_type": "markdown",
   "id": "96d7a928",
   "metadata": {},
   "source": [
    "Then we can retrieve the results similarly. We examine the probability of obtaining the ground state again to compare with ideal classical simulation results."
   ]
  },
  {
   "cell_type": "code",
   "execution_count": 16,
   "id": "b134cd07",
   "metadata": {},
   "outputs": [
    {
     "name": "stdout",
     "output_type": "stream",
     "text": [
      "0.335\n"
     ]
    }
   ],
   "source": [
    "res_quera = bp.results()\n",
    "print(res_quera[\"000000\"])"
   ]
  },
  {
   "cell_type": "markdown",
   "id": "0d9d9d94",
   "metadata": {},
   "source": [
    "The error mainly comes from the non-neighboring interactions between sites. To compare it with the ideal results, we calculate the TV between the two distrubtions"
   ]
  },
  {
   "cell_type": "code",
   "execution_count": 19,
   "id": "23d0a3cf",
   "metadata": {},
   "outputs": [
    {
     "data": {
      "text/plain": [
       "0.10084898882144529"
      ]
     },
     "execution_count": 19,
     "metadata": {},
     "output_type": "execute_result"
    }
   ],
   "source": [
    "TV(res_cycle_gt, res_quera)"
   ]
  },
  {
   "cell_type": "markdown",
   "id": "af885873",
   "metadata": {},
   "source": [
    "We may send the pulse schedule to QuEra's device to run. The following command submits a job to AWS via Amazon Braket, which returns a task. The task arn is the identifier for you to retrieve results later if the current environment is lost, so please record it carefully. "
   ]
  },
  {
   "cell_type": "code",
   "execution_count": null,
   "id": "77b2f3c3",
   "metadata": {},
   "outputs": [],
   "source": [
    "# bp.run(shots=1000)"
   ]
  },
  {
   "cell_type": "markdown",
   "id": "3498922e",
   "metadata": {},
   "source": [
    "Typically you may need to wait for several days for the queuing on the cloud. We reuse a former task which submitted the same pulse schedule here for the explanation. We can retrieve the results by a previously recorded task arn."
   ]
  },
  {
   "cell_type": "code",
   "execution_count": 21,
   "id": "b43d6b6f",
   "metadata": {},
   "outputs": [
    {
     "name": "stdout",
     "output_type": "stream",
     "text": [
      "0.438\n"
     ]
    }
   ],
   "source": [
    "res_quera_real = bp.results(task_arn=\"arn:aws:braket:us-east-1:795824654075:quantum-task/acd3ae81-a220-41a7-ac34-d3f6371cb516\")\n",
    "print(res_quera_real[\"000000\"])"
   ]
  },
  {
   "cell_type": "markdown",
   "id": "07417ffb",
   "metadata": {},
   "source": [
    "The real device execution is noisy, hence the retrieved results are significantly different than the noiseless simulation results. We can compare them by TV"
   ]
  },
  {
   "cell_type": "code",
   "execution_count": 22,
   "id": "cbe40e5e",
   "metadata": {},
   "outputs": [
    {
     "data": {
      "text/plain": [
       "0.44150000000000017"
      ]
     },
     "execution_count": 22,
     "metadata": {},
     "output_type": "execute_result"
    }
   ],
   "source": [
    "TV(res_quera, res_quera_real)"
   ]
  },
  {
   "cell_type": "markdown",
   "id": "4a98a44f",
   "metadata": {},
   "source": [
    "We may also calculate the distance between real device execution results and the ground truth results."
   ]
  },
  {
   "cell_type": "code",
   "execution_count": 24,
   "id": "bab2c9f3",
   "metadata": {},
   "outputs": [
    {
     "data": {
      "text/plain": [
       "0.4879475083069719"
      ]
     },
     "execution_count": 24,
     "metadata": {},
     "output_type": "execute_result"
    }
   ],
   "source": [
    "TV(res_cycle_gt, res_quera_real)"
   ]
  },
  {
   "cell_type": "markdown",
   "id": "69149a0a",
   "metadata": {},
   "source": [
    "Now we proceed to the chain Ising model. However, current QuEra devices only support global laser control, while the chain Ising model requires local laser control because of asymmetry of sites. We may try to compile ``Ising_chain`` with the QuEra device by"
   ]
  },
  {
   "cell_type": "code",
   "execution_count": 27,
   "id": "32ce2a61",
   "metadata": {},
   "outputs": [
    {
     "name": "stdout",
     "output_type": "stream",
     "text": [
      "Failed.\n"
     ]
    }
   ],
   "source": [
    "try:\n",
    "    bp.compile(Ising_chain, \"quera\", \"Aquila\", \"rydberg2d_global\", tol=1)\n",
    "except:\n",
    "    print(\"Failed.\")"
   ]
  },
  {
   "cell_type": "markdown",
   "id": "9da6e991",
   "metadata": {},
   "source": [
    "### IonQ's Trapped Ion Arrays\n",
    "\n",
    "To access IonQ's devices, you may continue with Braket providers, while send in IonQ's device information and corresponding AAIS when compiling. \n",
    "\n",
    "Alternatively, here we access IonQ's devices via IonQ Quantum Cloud. To install, please refer to [SimuQ README](https://github.com/PicksPeng/SimuQ/blob/main/README.md). Similarly, we create an IonQ provider. "
   ]
  },
  {
   "cell_type": "code",
   "execution_count": 9,
   "id": "acb9b0f9",
   "metadata": {},
   "outputs": [],
   "source": []
  },
  {
   "cell_type": "markdown",
   "id": "d8c135bb",
   "metadata": {},
   "source": [
    "We can follow the same procedures to compile and deploy the Ising models on IonQ's devices. Here we first validate the compilation on the noiseless simulator of IonQ. Similarly, the distance between the noiseless simulation and the ground truth results are calculated by TV."
   ]
  },
  {
   "cell_type": "code",
   "execution_count": 10,
   "id": "fe346bd0",
   "metadata": {},
   "outputs": [],
   "source": []
  },
  {
   "cell_type": "code",
   "execution_count": 11,
   "id": "ee469f13",
   "metadata": {},
   "outputs": [
    {
     "name": "stdout",
     "output_type": "stream",
     "text": [
      "{'id': 'bab7b604-acd2-4d1c-adb7-d083468d7b64', 'status': 'ready', 'request': 1692158692}\n"
     ]
    }
   ],
   "source": []
  },
  {
   "cell_type": "code",
   "execution_count": 12,
   "id": "028aa689",
   "metadata": {},
   "outputs": [
    {
     "name": "stdout",
     "output_type": "stream",
     "text": [
      "0.271998682\n"
     ]
    }
   ],
   "source": []
  },
  {
   "cell_type": "markdown",
   "id": "47406d35",
   "metadata": {},
   "source": [
    "A noisy simulation for IonQ devices is also possible. We repeat the above procedure to see how noises will likely affect the results."
   ]
  },
  {
   "cell_type": "code",
   "execution_count": 12,
   "id": "e1b10940",
   "metadata": {},
   "outputs": [
    {
     "name": "stdout",
     "output_type": "stream",
     "text": [
      "{'id': '838069d5-5375-4091-81a8-8c04bae29639', 'status': 'ready', 'request': 1692174775}\n"
     ]
    }
   ],
   "source": []
  },
  {
   "cell_type": "code",
   "execution_count": 14,
   "id": "1a2a8bb5",
   "metadata": {},
   "outputs": [
    {
     "data": {
      "text/plain": [
       "0.17335761663751809"
      ]
     },
     "execution_count": 14,
     "metadata": {},
     "output_type": "execute_result"
    }
   ],
   "source": []
  },
  {
   "cell_type": "markdown",
   "id": "9c389274",
   "metadata": {},
   "source": [
    "We may then send the compiled circuits to be executed on the real devices. We also use a previously submitted job to present the results."
   ]
  },
  {
   "cell_type": "code",
   "execution_count": 14,
   "id": "51cf97ef",
   "metadata": {},
   "outputs": [],
   "source": []
  },
  {
   "cell_type": "code",
   "execution_count": 15,
   "id": "2dcff0a1",
   "metadata": {},
   "outputs": [
    {
     "name": "stdout",
     "output_type": "stream",
     "text": [
      "0.264404296875\n"
     ]
    }
   ],
   "source": []
  },
  {
   "cell_type": "markdown",
   "id": "7e847d6a",
   "metadata": {},
   "source": [
    "The above procedure can also be applied to ``Ising_chain`` since IonQ devices have complete connectivity. "
   ]
  },
  {
   "cell_type": "code",
   "execution_count": 15,
   "id": "ac8371a2",
   "metadata": {},
   "outputs": [],
   "source": []
  },
  {
   "cell_type": "code",
   "execution_count": null,
   "id": "01842c84",
   "metadata": {},
   "outputs": [],
   "source": []
  },
  {
   "cell_type": "code",
   "execution_count": 16,
   "id": "15360269",
   "metadata": {},
   "outputs": [
    {
     "data": {
      "text/plain": [
       "0.1616826263154284"
      ]
     },
     "execution_count": 16,
     "metadata": {},
     "output_type": "execute_result"
    }
   ],
   "source": []
  },
  {
   "cell_type": "markdown",
   "id": "9b82ad01",
   "metadata": {},
   "source": [
    "### IBM's Transmon Systems\n",
    "\n",
    "Here we access IBM’s devices via qiskit. Similarly, we create an IBMprovider. "
   ]
  },
  {
   "cell_type": "code",
   "execution_count": 11,
   "id": "324973eb",
   "metadata": {},
   "outputs": [],
   "source": [
    "from simuq.ibm import IBMProvider\n",
    "ibm=IBMProvider(from_file=\"../../../qiskit_APIKEY\", hub=\"ibm-q-ornl\", group=\"ornl\", project=\"phy147\")"
   ]
  },
  {
   "cell_type": "markdown",
   "id": "d8cf8fbb",
   "metadata": {},
   "source": [
    "We can follow the same procedures to compile and deploy the Ising models on IBM's devices. Here we first validate the compilation on the noiseless simulator from qiskit. Similarly, the distance between the noiseless simulation and the ground truth results are calculated by TV. Notice that simulating pulse level instructions is much more time consuming than simulating circuit level instructions. Therefore, we only simulate gate level instructions here."
   ]
  },
  {
   "cell_type": "code",
   "execution_count": 11,
   "id": "c7865db6",
   "metadata": {},
   "outputs": [],
   "source": [
    "ibm.compile(Ising_chain, backend=\"ibmq_guadalupe\", trotter_num=4, use_pulse=False)"
   ]
  },
  {
   "cell_type": "code",
   "execution_count": 13,
   "id": "9f904d74",
   "metadata": {},
   "outputs": [
    {
     "name": "stdout",
     "output_type": "stream",
     "text": [
      "<qiskit.providers.ibmq.job.ibmqjob.IBMQJob object at 0x7ff2897383d0>\n"
     ]
    }
   ],
   "source": [
    "ibm.run(on_simulator=True)"
   ]
  },
  {
   "cell_type": "code",
   "execution_count": 16,
   "id": "425abd7d",
   "metadata": {},
   "outputs": [
    {
     "data": {
      "text/plain": [
       "0.13625762530607033"
      ]
     },
     "execution_count": 16,
     "metadata": {},
     "output_type": "execute_result"
    }
   ],
   "source": [
    "res_ibm_chain = ibm.results(on_simulator=True)\n",
    "TV(res_chain_gt, res_ibm_chain)"
   ]
  },
  {
   "cell_type": "markdown",
   "id": "c8422174",
   "metadata": {},
   "source": [
    "A noisy simulation for IBM devices is also possible. We repeat the above procedure to see how noises will likely affect the results."
   ]
  },
  {
   "cell_type": "code",
   "execution_count": 30,
   "id": "0a43be69",
   "metadata": {},
   "outputs": [
    {
     "name": "stdout",
     "output_type": "stream",
     "text": [
      "<qiskit.providers.ibmq.job.ibmqjob.IBMQJob object at 0x7ff27ce589d0>\n"
     ]
    }
   ],
   "source": [
    "ibm.run(on_simulator=True, with_noise=True)"
   ]
  },
  {
   "cell_type": "code",
   "execution_count": 31,
   "id": "8ca34df2",
   "metadata": {},
   "outputs": [
    {
     "data": {
      "text/plain": [
       "0.14297352472366937"
      ]
     },
     "execution_count": 31,
     "metadata": {},
     "output_type": "execute_result"
    }
   ],
   "source": [
    "res_ibm_chain_noisy = ibm.results(on_simulator=True)\n",
    "TV(res_chain_gt, res_ibm_chain_noisy)"
   ]
  },
  {
   "cell_type": "markdown",
   "id": "b6b9a949",
   "metadata": {},
   "source": [
    "We may then send the compiled circuits to be executed on the real devices. We also use a previously submitted job to present the results."
   ]
  },
  {
   "cell_type": "code",
   "execution_count": 32,
   "id": "e4be685c",
   "metadata": {},
   "outputs": [
    {
     "name": "stdout",
     "output_type": "stream",
     "text": [
      "<qiskit.providers.ibmq.job.ibmqjob.IBMQJob object at 0x7ff2746d1f50>\n"
     ]
    }
   ],
   "source": [
    "# ibm.run(shots=4096)"
   ]
  },
  {
   "cell_type": "code",
   "execution_count": 12,
   "id": "0ddf1e4c",
   "metadata": {},
   "outputs": [
    {
     "data": {
      "text/plain": [
       "0.36901814080051965"
      ]
     },
     "execution_count": 12,
     "metadata": {},
     "output_type": "execute_result"
    }
   ],
   "source": [
    "res_ibm_chain_real = ibm.results(job_id=\"cjg1s533smr2evmgi8b0\")\n",
    "TV(res_chain_gt, res_ibm_chain_real)"
   ]
  },
  {
   "cell_type": "markdown",
   "id": "ad33ca01",
   "metadata": {},
   "source": [
    "Next, we try to use pulse level compilation to enhance the performance."
   ]
  },
  {
   "cell_type": "code",
   "execution_count": 26,
   "id": "f9f8682c",
   "metadata": {},
   "outputs": [],
   "source": [
    "ibm.compile(Ising_chain, backend=\"ibmq_guadalupe\", trotter_num=4, use_pulse=True)"
   ]
  },
  {
   "cell_type": "code",
   "execution_count": 28,
   "id": "363db496",
   "metadata": {},
   "outputs": [
    {
     "name": "stdout",
     "output_type": "stream",
     "text": [
      "<qiskit.providers.ibmq.job.ibmqjob.IBMQJob object at 0x7f1a3c17c5d0>\n"
     ]
    }
   ],
   "source": [
    "# ibm.run(shots=4096)"
   ]
  },
  {
   "cell_type": "code",
   "execution_count": 34,
   "id": "eb360e62",
   "metadata": {},
   "outputs": [
    {
     "data": {
      "text/plain": [
       "0.31003438692875523"
      ]
     },
     "execution_count": 34,
     "metadata": {},
     "output_type": "execute_result"
    }
   ],
   "source": [
    "res_ibm_chain_real = ibm.results(job_id=\"cjgll3q67vbih38voap0\")\n",
    "TV(res_chain_gt, res_ibm_chain_real)"
   ]
  }
 ],
 "metadata": {
  "kernelspec": {
   "display_name": "Python 3 (ipykernel)",
   "language": "python",
   "name": "python3"
  },
  "language_info": {
   "codemirror_mode": {
    "name": "ipython",
    "version": 3
   },
   "file_extension": ".py",
   "mimetype": "text/x-python",
   "name": "python",
   "nbconvert_exporter": "python",
   "pygments_lexer": "ipython3",
   "version": "3.11.4"
  }
 },
 "nbformat": 4,
 "nbformat_minor": 5
}
