{
 "cells": [
  {
   "cell_type": "code",
   "execution_count": 1,
   "id": "90795bcd",
   "metadata": {},
   "outputs": [],
   "source": [
    "%reload_ext autoreload\n",
    "%autoreload 2\n",
    "from simuq.ionq import IonQProvider\n",
    "ionq = IonQProvider(from_file=\"../../../ionq_API_key\")"
   ]
  },
  {
   "cell_type": "code",
   "execution_count": 2,
   "id": "c18022c4",
   "metadata": {},
   "outputs": [],
   "source": [
    "from simuq import QSystem, Qubit\n",
    "import numpy as np\n",
    "import scipy as sp\n",
    "X=np.array([[0,1],[1,0]])\n",
    "Y=np.array([[0,-1j],[1j,0]])\n",
    "Z=np.array([[1,0],[0,-1]])\n"
   ]
  },
  {
   "cell_type": "code",
   "execution_count": 3,
   "id": "30978389",
   "metadata": {},
   "outputs": [
    {
     "name": "stdout",
     "output_type": "stream",
     "text": [
      "1.824619149114389e-08\n"
     ]
    }
   ],
   "source": [
    "qs = QSystem()\n",
    "q0, q1 = Qubit(qs), Qubit(qs)\n",
    "h = q0.X*q1.Y+q0.X*q1.X*0.5\n",
    "qs.add_evolution(h, 1)\n",
    "ionq.compile(qs, aais=\"two_pauli\")\n",
    "solved_unitary=ionq.prog_obj.to_matrix()\n",
    "h1=np.kron(X,Y)+np.kron(X,X)*0.5\n",
    "ideal_unitary=sp.linalg.expm(-1j*h1)\n",
    "tmp=solved_unitary@ideal_unitary.T.conj()\n",
    "tmp/=tmp[0,0]\n",
    "print(np.linalg.norm(tmp-np.eye(4)))"
   ]
  },
  {
   "cell_type": "code",
   "execution_count": 4,
   "id": "17a40c29",
   "metadata": {},
   "outputs": [
    {
     "name": "stdout",
     "output_type": "stream",
     "text": [
      "1.08761952647703e-07\n"
     ]
    }
   ],
   "source": [
    "qs = QSystem()\n",
    "q0, q1 = Qubit(qs), Qubit(qs)\n",
    "h = q0.X*q1.X+q0.Y*q1.Y\n",
    "qs.add_evolution(h, 1)\n",
    "ionq.compile(qs, trotter_num=6, aais=\"two_pauli\", trotter_mode=1)\n",
    "solved_unitary=ionq.prog_obj.to_matrix()\n",
    "h1=np.kron(Y,Y)+np.kron(X,X)\n",
    "ideal_unitary=sp.linalg.expm(-1j*h1)\n",
    "tmp=solved_unitary@ideal_unitary.T.conj()\n",
    "tmp/=tmp[0,0]\n",
    "print(np.linalg.norm(tmp-np.eye(4)))"
   ]
  }
 ],
 "metadata": {
  "kernelspec": {
   "display_name": "simuq",
   "language": "python",
   "name": "python3"
  },
  "language_info": {
   "codemirror_mode": {
    "name": "ipython",
    "version": 3
   },
   "file_extension": ".py",
   "mimetype": "text/x-python",
   "name": "python",
   "nbconvert_exporter": "python",
   "pygments_lexer": "ipython3",
   "version": "3.12.4"
  }
 },
 "nbformat": 4,
 "nbformat_minor": 5
}
