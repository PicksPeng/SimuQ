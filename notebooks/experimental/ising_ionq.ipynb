{
 "cells": [
  {
   "cell_type": "code",
   "execution_count": 1,
   "id": "42b87d5f",
   "metadata": {
    "ExecuteTime": {
     "end_time": "2023-09-11T07:25:17.075912Z",
     "start_time": "2023-09-11T07:25:17.058318Z"
    }
   },
   "outputs": [],
   "source": [
    "%load_ext autoreload\n",
    "%autoreload 2\n",
    "import sys\n",
    "sys.path.append('..')"
   ]
  },
  {
   "cell_type": "code",
   "execution_count": 2,
   "id": "0a2fc1e3",
   "metadata": {
    "ExecuteTime": {
     "end_time": "2023-09-11T07:25:17.997994Z",
     "start_time": "2023-09-11T07:25:17.618969Z"
    }
   },
   "outputs": [],
   "source": [
    "from simuq.systems.ising import GenQS\n",
    "from simuq.ionq import IonQProvider"
   ]
  },
  {
   "cell_type": "code",
   "execution_count": 3,
   "outputs": [],
   "source": [
    "ionq = IonQProvider(from_file=\"../ionq_API_key\")"
   ],
   "metadata": {
    "collapsed": false,
    "ExecuteTime": {
     "end_time": "2023-09-11T07:25:18.857068Z",
     "start_time": "2023-09-11T07:25:18.824298Z"
    }
   },
   "id": "3810a2de52e2562f"
  },
  {
   "cell_type": "code",
   "execution_count": 4,
   "id": "8574407e",
   "metadata": {
    "ExecuteTime": {
     "end_time": "2023-09-11T07:25:19.606438Z",
     "start_time": "2023-09-11T07:25:19.583677Z"
    }
   },
   "outputs": [],
   "source": [
    "N = 6\n",
    "T = 1.0\n",
    "qs = GenQS(N, T, 1, 1, is_chain=True)"
   ]
  },
  {
   "cell_type": "code",
   "execution_count": 5,
   "id": "cfe90e6e",
   "metadata": {
    "ExecuteTime": {
     "end_time": "2023-09-11T07:25:21.151231Z",
     "start_time": "2023-09-11T07:25:20.934183Z"
    }
   },
   "outputs": [],
   "source": [
    "ionq.compile(qs)"
   ]
  },
  {
   "cell_type": "code",
   "execution_count": 6,
   "id": "82fd8a6d",
   "metadata": {},
   "outputs": [
    {
     "name": "stdout",
     "output_type": "stream",
     "text": [
      "{'id': '716d66e4-a6a6-49b8-b2df-d0acdfa5ed83', 'status': 'ready', 'request': 1689891144}\n"
     ]
    }
   ],
   "source": [
    "ionq.run(shots=4096, on_simulator=True)"
   ]
  },
  {
   "cell_type": "code",
   "execution_count": 7,
   "id": "2ffb0bad",
   "metadata": {},
   "outputs": [
    {
     "data": {
      "text/plain": [
       "{'000000': 0.1000976562,\n",
       " '000001': 0.04809570312,\n",
       " '000010': 0.01342773438,\n",
       " '000011': 0.0517578125,\n",
       " '000100': 0.01538085938,\n",
       " '000101': 0.0087890625,\n",
       " '000110': 0.01318359375,\n",
       " '000111': 0.03735351562,\n",
       " '001000': 0.02001953125,\n",
       " '001001': 0.009765625,\n",
       " '001010': 0.0029296875,\n",
       " '001011': 0.008056640625,\n",
       " '001100': 0.01708984375,\n",
       " '001101': 0.0087890625,\n",
       " '001110': 0.01196289062,\n",
       " '001111': 0.02172851562,\n",
       " '010000': 0.01611328125,\n",
       " '010001': 0.00634765625,\n",
       " '010010': 0.00146484375,\n",
       " '010011': 0.00732421875,\n",
       " '010100': 0.00390625,\n",
       " '010101': 0.001708984375,\n",
       " '010110': 0.0029296875,\n",
       " '010111': 0.00390625,\n",
       " '011000': 0.0107421875,\n",
       " '011001': 0.007568359375,\n",
       " '011010': 0.001708984375,\n",
       " '011011': 0.0068359375,\n",
       " '011100': 0.009033203125,\n",
       " '011101': 0.01000976562,\n",
       " '011110': 0.005615234375,\n",
       " '011111': 0.01538085938,\n",
       " '100000': 0.046875,\n",
       " '100001': 0.02221679688,\n",
       " '100010': 0.0087890625,\n",
       " '100011': 0.0224609375,\n",
       " '100100': 0.01049804688,\n",
       " '100101': 0.004638671875,\n",
       " '100110': 0.007080078125,\n",
       " '100111': 0.01977539062,\n",
       " '101000': 0.007568359375,\n",
       " '101001': 0.004638671875,\n",
       " '101010': 0.001220703125,\n",
       " '101011': 0.005126953125,\n",
       " '101100': 0.01220703125,\n",
       " '101101': 0.008056640625,\n",
       " '101110': 0.008544921875,\n",
       " '101111': 0.0126953125,\n",
       " '110000': 0.05419921875,\n",
       " '110001': 0.02734375,\n",
       " '110010': 0.005859375,\n",
       " '110011': 0.02807617188,\n",
       " '110100': 0.008544921875,\n",
       " '110101': 0.006591796875,\n",
       " '110110': 0.005615234375,\n",
       " '110111': 0.01635742188,\n",
       " '111000': 0.02978515625,\n",
       " '111001': 0.01879882812,\n",
       " '111010': 0.00390625,\n",
       " '111011': 0.0166015625,\n",
       " '111100': 0.02197265625,\n",
       " '111101': 0.01147460938,\n",
       " '111110': 0.0166015625,\n",
       " '111111': 0.02685546875}"
      ]
     },
     "execution_count": 7,
     "metadata": {},
     "output_type": "execute_result"
    }
   ],
   "source": [
    "ionq.results()"
   ]
  },
  {
   "cell_type": "code",
   "execution_count": null,
   "id": "f4091b82",
   "metadata": {},
   "outputs": [],
   "source": []
  }
 ],
 "metadata": {
  "kernelspec": {
   "display_name": "Python 3 (ipykernel)",
   "language": "python",
   "name": "python3"
  },
  "language_info": {
   "codemirror_mode": {
    "name": "ipython",
    "version": 3
   },
   "file_extension": ".py",
   "mimetype": "text/x-python",
   "name": "python",
   "nbconvert_exporter": "python",
   "pygments_lexer": "ipython3",
   "version": "3.9.6"
  }
 },
 "nbformat": 4,
 "nbformat_minor": 5
}
