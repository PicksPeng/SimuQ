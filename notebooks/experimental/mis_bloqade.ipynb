{
 "cells": [
  {
   "cell_type": "code",
   "execution_count": 1,
   "id": "24a177e2",
   "metadata": {
    "ExecuteTime": {
     "end_time": "2023-08-11T23:46:06.822103Z",
     "start_time": "2023-08-11T23:46:06.802215Z"
    }
   },
   "outputs": [],
   "source": [
    "%load_ext autoreload\n",
    "%autoreload 1\n",
    "import sys\n",
    "sys.path.append('..')"
   ]
  },
  {
   "cell_type": "code",
   "execution_count": 2,
   "id": "2f3bac74",
   "metadata": {
    "ExecuteTime": {
     "end_time": "2023-08-11T23:46:07.223853Z",
     "start_time": "2023-08-11T23:46:06.845507Z"
    }
   },
   "outputs": [],
   "source": [
    "from simuq.solver import generate_as\n",
    "from simuq.systems.mis import GenQS\n",
    "from simuq.aais import rydberg1d\n",
    "from simuq.backends.bloqade_rydberg import transpile\n",
    "\n",
    "n = 3\n",
    "D = 3\n",
    "qs = GenQS(k = n, dis_num = D)\n",
    "mach = rydberg1d.generate_qmachine(n)"
   ]
  },
  {
   "cell_type": "code",
   "execution_count": 3,
   "id": "c945c671",
   "metadata": {
    "ExecuteTime": {
     "end_time": "2023-08-11T23:46:07.981252Z",
     "start_time": "2023-08-11T23:46:07.228567Z"
    }
   },
   "outputs": [
    {
     "name": "stdout",
     "output_type": "stream",
     "text": [
      "using Bloqade\n",
      "atoms = AtomList([(0,), (13.58206868288798,), (27.164137365723022,)]) \n",
      "omega = [piecewise_constant(clocks = [0, 1.5439977456369967, 3.087995465487108, 4.631992872439543], values = [0.8635591228675065, 0.8635591389602651, 0.8635593056576278]), piecewise_constant(clocks = [0, 1.5439977456369967, 3.087995465487108, 4.631992872439543], values = [0.863559122867507, 0.863559138960265, 0.8635593056576276]), piecewise_constant(clocks = [0, 1.5439977456369967, 3.087995465487108, 4.631992872439543], values = [0.8635591228675061, 0.8635591389602654, 0.8635593056576283]), ]\n",
      "phi = [piecewise_constant(clocks = [0, 1.5439977456369967, 3.087995465487108, 4.631992872439543], values = [7.0079131589306384e-15, -7.429368798680961e-17, 2.3339274700974157e-15]), piecewise_constant(clocks = [0, 1.5439977456369967, 3.087995465487108, 4.631992872439543], values = [-1.49189336400032e-15, 2.6018484149510833e-15, 3.651210682184916e-15]), piecewise_constant(clocks = [0, 1.5439977456369967, 3.087995465487108, 4.631992872439543], values = [-8.819121002792873e-16, -2.866223409476223e-15, 1.9554397719368374e-15]), ]\n",
      "delta = [piecewise_constant(clocks = [0, 1.5439977456369967, 3.087995465487108, 4.631992872439543], values = [-0.209196715756555, -0.0652702033509709, 0.07865624624034426]), piecewise_constant(clocks = [0, 1.5439977456369967, 3.087995465487108, 4.631992872439543], values = [-0.2159951139467475, -0.07206861036291254, 0.07185775216118767]), piecewise_constant(clocks = [0, 1.5439977456369967, 3.087995465487108, 4.631992872439543], values = [-0.20919671572721554, -0.06527020334325068, 0.07865624664079349]), ]\n",
      "h = rydberg_h(atoms; Δ = delta, Ω = omega, ϕ = phi)\n"
     ]
    }
   ],
   "source": [
    "Trot = 1\n",
    "tol = 0.1\n",
    "\n",
    "bloqade_code = transpile(*generate_as(qs, mach, Trot, 'least_squares', tol), inter_order = 0)\n",
    "print(bloqade_code)"
   ]
  },
  {
   "cell_type": "code",
   "execution_count": 4,
   "id": "d8ada597",
   "metadata": {
    "ExecuteTime": {
     "end_time": "2023-08-11T23:46:08.592961Z",
     "start_time": "2023-08-11T23:46:08.105866Z"
    }
   },
   "outputs": [
    {
     "name": "stdout",
     "output_type": "stream",
     "text": [
      "using Bloqade\n",
      "atoms = AtomList([(0,), (13.58206868288798,), (27.164137365723022,)]) \n",
      "omega = [piecewise_linear(clocks = [0, 1.5439977456369967, 3.087995465487108, 4.631992872439543], values = [0.8635591228675065, 0.8635591389602651, 0.8635593056576278, 0.8635594723549568]), piecewise_linear(clocks = [0, 1.5439977456369967, 3.087995465487108, 4.631992872439543], values = [0.863559122867507, 0.863559138960265, 0.8635593056576276, 0.8635594723549564]), piecewise_linear(clocks = [0, 1.5439977456369967, 3.087995465487108, 4.631992872439543], values = [0.8635591228675061, 0.8635591389602654, 0.8635593056576283, 0.8635594723549574]), ]\n",
      "phi = [piecewise_linear(clocks = [0, 1.5439977456369967, 3.087995465487108, 4.631992872439543], values = [7.0079131589306384e-15, -7.429368798680961e-17, 2.3339274700974157e-15, 4.742148140145427e-15]), piecewise_linear(clocks = [0, 1.5439977456369967, 3.087995465487108, 4.631992872439543], values = [-1.49189336400032e-15, 2.6018484149510833e-15, 3.651210682184916e-15, 4.700572736761042e-15]), piecewise_linear(clocks = [0, 1.5439977456369967, 3.087995465487108, 4.631992872439543], values = [-8.819121002792873e-16, -2.866223409476223e-15, 1.9554397719368374e-15, 6.777101976219437e-15]), ]\n",
      "delta = [piecewise_linear(clocks = [0, 1.5439977456369967, 3.087995465487108, 4.631992872439543], values = [-0.209196715756555, -0.0652702033509709, 0.07865624624034426, 0.22258266666435497]), piecewise_linear(clocks = [0, 1.5439977456369967, 3.087995465487108, 4.631992872439543], values = [-0.2159951139467475, -0.07206861036291254, 0.07185775216118767, 0.21578408551800107]), piecewise_linear(clocks = [0, 1.5439977456369967, 3.087995465487108, 4.631992872439543], values = [-0.20919671572721554, -0.06527020334325068, 0.07865624664079349, 0.22258266745753313]), ]\n",
      "h = rydberg_h(atoms; Δ = delta, Ω = omega, ϕ = phi)\n"
     ]
    }
   ],
   "source": [
    "Trot = 1\n",
    "tol = 0.1\n",
    "\n",
    "bloqade_code = transpile(*generate_as(qs, mach, Trot, 'least_squares', tol), inter_order = 1)\n",
    "print(bloqade_code)"
   ]
  },
  {
   "cell_type": "code",
   "execution_count": null,
   "id": "91eabc11",
   "metadata": {},
   "outputs": [],
   "source": []
  }
 ],
 "metadata": {
  "kernelspec": {
   "display_name": "Python 3 (ipykernel)",
   "language": "python",
   "name": "python3"
  },
  "language_info": {
   "codemirror_mode": {
    "name": "ipython",
    "version": 3
   },
   "file_extension": ".py",
   "mimetype": "text/x-python",
   "name": "python",
   "nbconvert_exporter": "python",
   "pygments_lexer": "ipython3",
   "version": "3.9.6"
  }
 },
 "nbformat": 4,
 "nbformat_minor": 5
}
